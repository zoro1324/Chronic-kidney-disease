{
  "cells": [
    {
      "cell_type": "markdown",
      "metadata": {
        "id": "view-in-github",
        "colab_type": "text"
      },
      "source": [
        "<a href=\"https://colab.research.google.com/github/zoro1324/Chronic-kidney-disease/blob/main/Chronic_kidney_disease.ipynb\" target=\"_parent\"><img src=\"https://colab.research.google.com/assets/colab-badge.svg\" alt=\"Open In Colab\"/></a>"
      ]
    },
    {
      "cell_type": "code",
      "execution_count": null,
      "metadata": {
        "id": "ey1cr11pDt3W"
      },
      "outputs": [],
      "source": [
        "import pandas as pd\n",
        "import numpy as np\n",
        "import matplotlib.pyplot as plt\n",
        "import seaborn as sns\n",
        "import os"
      ]
    },
    {
      "cell_type": "code",
      "execution_count": null,
      "metadata": {
        "id": "w1bxRziJD75F"
      },
      "outputs": [],
      "source": [
        "df = pd.read_csv('/content/kidney_disease.csv')\n",
        "df.shape\n",
        "df.info()"
      ]
    },
    {
      "cell_type": "code",
      "execution_count": null,
      "metadata": {
        "id": "xpKlTdcfNRTl"
      },
      "outputs": [],
      "source": [
        "df.head()"
      ]
    },
    {
      "cell_type": "code",
      "execution_count": null,
      "metadata": {
        "id": "k_7K0foHNahZ"
      },
      "outputs": [],
      "source": [
        "df.drop(columns=('id'),axis=1,inplace=True)\n",
        "df.head()"
      ]
    },
    {
      "cell_type": "code",
      "execution_count": null,
      "metadata": {
        "id": "0ojlIy_KOYaH"
      },
      "outputs": [],
      "source": [
        "df.describe()"
      ]
    },
    {
      "cell_type": "code",
      "execution_count": null,
      "metadata": {
        "id": "4f_XQpOwOfZ2"
      },
      "outputs": [],
      "source": [
        "df.rename(\n",
        "    {\n",
        "        'bp' : 'Blood_Pressure',\n",
        "        'sg' : 'Specific_Gravity',\n",
        "        'al' : 'Albumin',\n",
        "        'su' : 'Sugar',\n",
        "        'rbc' : 'Red_Blood_Cells',\n",
        "        'pc' : 'Pus_Cell',\n",
        "        'pcc' : 'Pus_Cell_Clumps',\n",
        "        'ba' : 'Bacteria',\n",
        "        'bgr' : 'Blood_Glucose_Random',\n",
        "        'bu' : 'Blood_Unicorn',\n",
        "        'sc' : 'Specific_Chromatin',\n",
        "        'sod' : 'Sodium',\n",
        "        'pot' : 'Potasium',\n",
        "        'hemo' : 'Hemoglobin',\n",
        "        'pcv' : 'Packed_Cell_Volume',\n",
        "        'wc' : 'White_Blood_Cell_Count',\n",
        "        'rc' : 'Red_Blood_Cell_Count',\n",
        "        'htn' : 'Hypertension',\n",
        "        'dm' : 'Diabetes_Mellitus',\n",
        "        'cad' : 'Coronary_Artery_Disease',\n",
        "        'appet' : 'Appetite',\n",
        "        'pe' : 'Pedal_Edema',\n",
        "        'ane' : 'Ann_Artery_Disease',\n",
        "    },\n",
        "    axis=1,\n",
        "    inplace=True\n",
        ")"
      ]
    },
    {
      "cell_type": "code",
      "execution_count": null,
      "metadata": {
        "id": "812hpFj5Pbco"
      },
      "outputs": [],
      "source": [
        "df.info()"
      ]
    },
    {
      "cell_type": "code",
      "execution_count": null,
      "metadata": {
        "id": "_eKp_s2AQTiw"
      },
      "outputs": [],
      "source": [
        "df.head()"
      ]
    },
    {
      "cell_type": "code",
      "execution_count": null,
      "metadata": {
        "id": "gWy-bqOARNud"
      },
      "outputs": [],
      "source": [
        "df['Packed_Cell_Volume'] = pd.to_numeric(df['Packed_Cell_Volume'],errors='coerce')\n",
        "df['White_Blood_Cell_Count'] = pd.to_numeric(df['White_Blood_Cell_Count'],errors='coerce')\n",
        "df['Red_Blood_Cell_Count'] = pd.to_numeric(df['Red_Blood_Cell_Count'],errors='coerce')\n",
        "df.info()"
      ]
    },
    {
      "cell_type": "code",
      "execution_count": null,
      "metadata": {
        "id": "BLiJ3waTSBmQ"
      },
      "outputs": [],
      "source": [
        "missing = df.isnull().sum()\n",
        "missing[missing>0].sort_values(ascending=False)"
      ]
    },
    {
      "cell_type": "code",
      "execution_count": null,
      "metadata": {
        "id": "cILGFDQoPTBK"
      },
      "outputs": [],
      "source": [
        "print(df['classification'].unique())\n",
        "print(df['Diabetes_Mellitus'].unique())\n",
        "print(df['Appetite'].unique())"
      ]
    },
    {
      "cell_type": "code",
      "execution_count": null,
      "metadata": {
        "id": "Yex8GLr-UBfq"
      },
      "outputs": [],
      "source": [
        "df['classification'] = df['classification'].replace(to_replace={'ckd\\t':'ckd'})\n",
        "df['Diabetes_Mellitus'] = df['Diabetes_Mellitus'].replace(to_replace={' yes':'yes','\\tyes':'yes','\\tno':'no'})\n"
      ]
    },
    {
      "cell_type": "code",
      "execution_count": null,
      "metadata": {
        "id": "7X-2MuFWUu5A"
      },
      "outputs": [],
      "source": [
        "print(df['classification'].unique())\n",
        "print(df['Diabetes_Mellitus'].unique())\n",
        "print(df['Appetite'].unique())"
      ]
    },
    {
      "cell_type": "code",
      "execution_count": null,
      "metadata": {
        "id": "947uB-xlPJS4"
      },
      "outputs": [],
      "source": [
        "for col in df.columns:\n",
        "    if df[col].dtype in ['float64', 'int64']:\n",
        "        # For numeric columns\n",
        "        for group in df['classification'].unique():\n",
        "            mean_val = df.loc[df['classification'] == group, col].mean()\n",
        "            mode_val = df.loc[df['classification'] == group, col].mode()\n",
        "            if not mode_val.empty:\n",
        "                mode_val = mode_val[0]\n",
        "            else:\n",
        "                mode_val = np.nan\n",
        "\n",
        "            # Fill NaNs with mean first, then mode (you can switch if preferred)\n",
        "            df.loc[(df['classification'] == group) & (df[col].isna()), col] = mean_val if not np.isnan(mean_val) else mode_val"
      ]
    },
    {
      "cell_type": "code",
      "execution_count": null,
      "metadata": {
        "id": "pta5_82rSn-z"
      },
      "outputs": [],
      "source": [
        "for col in df.columns:\n",
        "    if df[col].dtype == 'object' and col != 'classification':\n",
        "        for group in df['classification'].unique():\n",
        "            mode_val = df.loc[df['classification'] == group, col].mode()\n",
        "            if not mode_val.empty:\n",
        "                mode_val = mode_val[0]\n",
        "                df.loc[(df['classification'] == group) & (df[col].isna()), col] = mode_val"
      ]
    },
    {
      "cell_type": "code",
      "execution_count": null,
      "metadata": {
        "id": "v-i2AM7_Shmx"
      },
      "outputs": [],
      "source": [
        "missing = df.isnull().sum()\n",
        "missing[missing>0].sort_values(ascending=False)"
      ]
    },
    {
      "cell_type": "code",
      "source": [
        "df['Hypertension'].unique()"
      ],
      "metadata": {
        "id": "a6oq0_uumAs9"
      },
      "execution_count": null,
      "outputs": []
    },
    {
      "cell_type": "code",
      "source": [
        "df['Diabetes_Mellitus'].unique()"
      ],
      "metadata": {
        "id": "779clPb-mHW2"
      },
      "execution_count": null,
      "outputs": []
    },
    {
      "cell_type": "code",
      "execution_count": null,
      "metadata": {
        "id": "xtELVmmCVEm6"
      },
      "outputs": [],
      "source": [
        "print(df['classification'].unique())\n",
        "print(df['Diabetes_Mellitus'].unique())\n",
        "print(df['Appetite'].unique())"
      ]
    },
    {
      "cell_type": "code",
      "execution_count": null,
      "metadata": {
        "id": "JRr2kWGrVK2H"
      },
      "outputs": [],
      "source": [
        "from sklearn.preprocessing import LabelEncoder\n",
        "le = LabelEncoder()\n",
        "for col in df.columns:\n",
        "  if df[col].dtype == 'object' :\n",
        "    df[col] = le.fit_transform(df[col])\n",
        "df.info()"
      ]
    },
    {
      "cell_type": "code",
      "execution_count": null,
      "metadata": {
        "id": "X-Q1wpZYWeaQ"
      },
      "outputs": [],
      "source": [
        "import matplotlib.pyplot as plt\n",
        "import seaborn as sns\n",
        "plt.figure(figsize=(15,8))\n",
        "sns.heatmap(df.corr(),annot=True,linewidths=0.75)"
      ]
    },
    {
      "cell_type": "code",
      "execution_count": null,
      "metadata": {
        "id": "VS3qgAu7cyIz"
      },
      "outputs": [],
      "source": [
        "from sklearn.model_selection import train_test_split\n",
        "X = df.drop('classification',axis=1)\n",
        "y = df['classification']"
      ]
    },
    {
      "cell_type": "code",
      "source": [
        "from sklearn.feature_selection import SelectKBest,f_classif\n",
        "selector = SelectKBest(f_classif,k=7)\n",
        "X_new = selector.fit_transform(X,y)\n",
        "selected_features = X.columns[selector.get_support()]\n",
        "print(selected_features)\n",
        "X=X[selected_features]"
      ],
      "metadata": {
        "id": "hoKvo9wJiVY-"
      },
      "execution_count": null,
      "outputs": []
    },
    {
      "cell_type": "code",
      "source": [
        "X_train,X_test,y_train,y_test = train_test_split(X,y)"
      ],
      "metadata": {
        "id": "XUs47VgAjNTR"
      },
      "execution_count": null,
      "outputs": []
    },
    {
      "cell_type": "code",
      "execution_count": null,
      "metadata": {
        "id": "Z5AEidkje-Rq"
      },
      "outputs": [],
      "source": [
        "from sklearn.ensemble import RandomForestClassifier\n",
        "from sklearn.tree import DecisionTreeClassifier\n",
        "from sklearn.neighbors import KNeighborsClassifier\n",
        "from sklearn.svm import SVC\n",
        "from sklearn.naive_bayes import GaussianNB"
      ]
    },
    {
      "cell_type": "code",
      "execution_count": null,
      "metadata": {
        "id": "B6V4QhCxTxeW"
      },
      "outputs": [],
      "source": [
        "models = {\n",
        "    'Random_Forest' : RandomForestClassifier(n_estimators=100),\n",
        "    'Decision_Tree' : DecisionTreeClassifier(max_depth=9),\n",
        "    'KNeighbors' : KNeighborsClassifier(n_neighbors=8,n_jobs=-1),\n",
        "    'SVC' : SVC(kernel='linear'),\n",
        "    'NB' : GaussianNB()\n",
        "}"
      ]
    },
    {
      "cell_type": "code",
      "execution_count": null,
      "metadata": {
        "id": "53g6u-pNV4-N"
      },
      "outputs": [],
      "source": [
        "from sklearn.metrics import accuracy_score,f1_score,confusion_matrix,precision_score,recall_score"
      ]
    },
    {
      "cell_type": "code",
      "execution_count": null,
      "metadata": {
        "id": "fYI1UYHUVH31"
      },
      "outputs": [],
      "source": [
        "for name,model in models.items():\n",
        "  model.fit(X_train,y_train)\n",
        "  y_pred = model.predict(X_test)\n",
        "  print(\"------------------------------------------\")\n",
        "  print(f'{name}-trained')\n",
        "  print(\"------------------------------------------\")\n",
        "  print('accuracy_score:',accuracy_score(y_test,y_pred))\n",
        "  print('f1_score:',f1_score(y_test,y_pred))\n",
        "  print('confusion_matrix:',confusion_matrix(y_test,y_pred))\n",
        "  print('precision_score:',precision_score(y_test,y_pred))\n",
        "  print('recall_score:',recall_score(y_test,y_pred))\n",
        "  print(\"------------------------------------------\")\n"
      ]
    },
    {
      "cell_type": "code",
      "source": [
        "best_model = models['Random_Forest']"
      ],
      "metadata": {
        "id": "R2umvwVqmwYu"
      },
      "execution_count": null,
      "outputs": []
    },
    {
      "cell_type": "code",
      "execution_count": null,
      "metadata": {
        "id": "S4Lk8LXxYkgO"
      },
      "outputs": [],
      "source": [
        "print(\"=============================\")\n",
        "print(\"Best Model is Random_Forest\")\n",
        "print(\"==============================\")"
      ]
    },
    {
      "cell_type": "code",
      "source": [
        "X.info()"
      ],
      "metadata": {
        "colab": {
          "base_uri": "https://localhost:8080/"
        },
        "id": "tzTkuE2wlQlo",
        "outputId": "d0c7bf8b-e7d5-4ea7-8264-d6597d805b97"
      },
      "execution_count": 72,
      "outputs": [
        {
          "output_type": "stream",
          "name": "stdout",
          "text": [
            "<class 'pandas.core.frame.DataFrame'>\n",
            "RangeIndex: 400 entries, 0 to 399\n",
            "Data columns (total 7 columns):\n",
            " #   Column                Non-Null Count  Dtype  \n",
            "---  ------                --------------  -----  \n",
            " 0   Specific_Gravity      400 non-null    float64\n",
            " 1   Albumin               400 non-null    float64\n",
            " 2   Hemoglobin            400 non-null    float64\n",
            " 3   Packed_Cell_Volume    400 non-null    float64\n",
            " 4   Red_Blood_Cell_Count  400 non-null    float64\n",
            " 5   Hypertension          400 non-null    int64  \n",
            " 6   Diabetes_Mellitus     400 non-null    int64  \n",
            "dtypes: float64(5), int64(2)\n",
            "memory usage: 22.0 KB\n"
          ]
        }
      ]
    },
    {
      "cell_type": "code",
      "source": [
        "import gradio as gr"
      ],
      "metadata": {
        "id": "liR_pmt0kiDx"
      },
      "execution_count": null,
      "outputs": []
    },
    {
      "cell_type": "code",
      "metadata": {
        "id": "3c91f101"
      },
      "source": [
        "def predict_kidney_disease(Specific_Gravity, Albumin, Hemoglobin, Packed_Cell_Volume, Red_Blood_Cell_Count, Hypertension, Diabetes_Mellitus):\n",
        "    # The model was trained on integer values for Hypertension and Diabetes_Mellitus\n",
        "    Hypertension = 1 if Hypertension == 'yes' else 0\n",
        "    Diabetes_Mellitus = 1 if Diabetes_Mellitus == 'yes' else 0\n",
        "\n",
        "    features = np.array([[Specific_Gravity, Albumin, Hemoglobin, Packed_Cell_Volume, Red_Blood_Cell_Count, Hypertension, Diabetes_Mellitus]])\n",
        "    prediction = best_model.predict(features)\n",
        "\n",
        "    return 'You have Chronic kidney disease (CKD) ' if prediction[0] == 0 else \"You Don't have Chronic kidney disease (CKD) \""
      ],
      "execution_count": null,
      "outputs": []
    },
    {
      "cell_type": "code",
      "metadata": {
        "id": "5795cc01"
      },
      "source": [
        "inputs = [\n",
        "    gr.Number(label=\"Specific Gravity\"),\n",
        "    gr.Number(label=\"Albumin\"),\n",
        "    gr.Number(label=\"Hemoglobin\"),\n",
        "    gr.Number(label=\"Packed Cell Volume\"),\n",
        "    gr.Number(label=\"Red Blood Cell Count\"),\n",
        "    gr.Radio(label=\"Hypertension\"),\n",
        "    gr.Radio(label=\"Diabetes Mellitus\")\n",
        "]\n",
        "\n",
        "output = gr.Textbox(label=\"Kidney Disease Prediction\")\n",
        "\n",
        "gr.Interface(fn=predict_kidney_disease, inputs=inputs, outputs=output, title=\"Kidney Disease Prediction\").launch()"
      ],
      "execution_count": null,
      "outputs": []
    }
  ],
  "metadata": {
    "colab": {
      "provenance": [],
      "authorship_tag": "ABX9TyMRYMVJP2UktFtuVes6nvgO",
      "include_colab_link": true
    },
    "kernelspec": {
      "display_name": "Python 3",
      "name": "python3"
    },
    "language_info": {
      "name": "python"
    }
  },
  "nbformat": 4,
  "nbformat_minor": 0
}