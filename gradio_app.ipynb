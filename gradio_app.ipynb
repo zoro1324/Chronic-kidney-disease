{
 "cells": [
  {
   "cell_type": "code",
   "execution_count": 8,
   "id": "799ee203",
   "metadata": {},
   "outputs": [],
   "source": [
    "import os\n",
    "import pandas as pd\n",
    "import numpy as np\n",
    "import gradio as gr\n",
    "from joblib import load"
   ]
  },
  {
   "cell_type": "code",
   "execution_count": 9,
   "id": "9d3676e6",
   "metadata": {},
   "outputs": [
    {
     "name": "stdout",
     "output_type": "stream",
     "text": [
      "Loaded best model from models\\best_model.joblib\n",
      "Loaded encoders from models\\label_encoders.joblib\n"
     ]
    }
   ],
   "source": [
    "\n",
    "BEST_MODEL_PATH = os.path.join('models', 'best_model.joblib')\n",
    "ENCODERS_PATH = os.path.join('models', 'label_encoders.joblib')\n",
    "\n",
    "try:\n",
    "    best_model = load(BEST_MODEL_PATH)\n",
    "    print(f'Loaded best model from {BEST_MODEL_PATH}')\n",
    "except Exception as e:\n",
    "    best_model = None\n",
    "    print(f'Error loading best model ({BEST_MODEL_PATH}): {e}')\n",
    "\n",
    "try:\n",
    "    encoders = load(ENCODERS_PATH)\n",
    "    print(f'Loaded encoders from {ENCODERS_PATH}')\n",
    "except Exception as e:\n",
    "    encoders = None\n",
    "    print(f'Error loading encoders ({ENCODERS_PATH}): {e}')\n",
    "\n",
    "DEFAULT_FEATURES = [\n",
    "    'Specific_Gravity',\n",
    "    'Albumin',\n",
    "    'Hemoglobin',\n",
    "    'Packed_Cell_Volume',\n",
    "    'Red_Blood_Cell_Count',\n",
    "    'Hypertension',\n",
    "    'Diabetes_Mellitus'\n",
    "]"
   ]
  },
  {
   "cell_type": "code",
   "execution_count": 10,
   "id": "8fecd155",
   "metadata": {},
   "outputs": [
    {
     "name": "stdout",
     "output_type": "stream",
     "text": [
      "* Running on local URL:  http://127.0.0.1:7864\n",
      "\n",
      "To create a public link, set `share=True` in `launch()`.\n",
      "\n",
      "To create a public link, set `share=True` in `launch()`.\n"
     ]
    },
    {
     "data": {
      "text/html": [
       "<div><iframe src=\"http://127.0.0.1:7864/\" width=\"100%\" height=\"500\" allow=\"autoplay; camera; microphone; clipboard-read; clipboard-write;\" frameborder=\"0\" allowfullscreen></iframe></div>"
      ],
      "text/plain": [
       "<IPython.core.display.HTML object>"
      ]
     },
     "metadata": {},
     "output_type": "display_data"
    },
    {
     "data": {
      "text/plain": []
     },
     "execution_count": 10,
     "metadata": {},
     "output_type": "execute_result"
    }
   ],
   "source": [
    "def _build_input_df(values, feature_names=None):\n",
    "    \"\"\"Builds a single-row DataFrame from values. If feature_names is given, reorder to match.\"\"\"\n",
    "    df = pd.DataFrame([values], columns=DEFAULT_FEATURES)\n",
    "\n",
    "    if feature_names is not None:\n",
    "        try:\n",
    "            req = list(feature_names)\n",
    "            for c in req:\n",
    "                if c not in df.columns:\n",
    "                    df[c] = np.nan\n",
    "            df = df[req]\n",
    "        except Exception:\n",
    "            pass\n",
    "\n",
    "    return df\n",
    "\n",
    "\n",
    "def predict_api(Specific_Gravity, Albumin, Hemoglobin, Packed_Cell_Volume, Red_Blood_Cell_Count, Hypertension, Diabetes_Mellitus):\n",
    "    \"\"\"Predict function used by Gradio. Returns a human-readable string.\"\"\"\n",
    "    values = [Specific_Gravity, Albumin, Hemoglobin, Packed_Cell_Volume, Red_Blood_Cell_Count, Hypertension, Diabetes_Mellitus]\n",
    "\n",
    "    if best_model is None:\n",
    "        return 'No saved model found at models/best_model.joblib. Please train and save the model first.'\n",
    "\n",
    "    df = _build_input_df(values)\n",
    "\n",
    "    if encoders is None:\n",
    "        for col in ['Hypertension', 'Diabetes_Mellitus']:\n",
    "            if col in df.columns:\n",
    "                df[col] = df[col].apply(lambda x: 1 if str(x).lower() == 'yes' else 0)\n",
    "    else:\n",
    "        for col, le in encoders.items():\n",
    "            if col in df.columns:\n",
    "                df[col] = df[col].fillna('missing')\n",
    "                try:\n",
    "                    df[col] = le.transform(df[col].astype(str))\n",
    "                except Exception:\n",
    "                    df[col] = df[col].astype(str).apply(lambda x: x if x in le.classes_ else 'missing')\n",
    "                    df[col] = le.transform(df[col])\n",
    "\n",
    "    model_feature_names = getattr(best_model, 'feature_names_in_', None)\n",
    "    if model_feature_names is not None:\n",
    "        req = list(model_feature_names)\n",
    "        for c in req:\n",
    "            if c not in df.columns:\n",
    "                df[c] = np.nan\n",
    "        df = df[req]\n",
    "    else:\n",
    "        df = df[DEFAULT_FEATURES]\n",
    "\n",
    "    try:\n",
    "        pred = best_model.predict(df)\n",
    "    except Exception as e:\n",
    "        return f'Error during prediction with model: {e}'\n",
    "\n",
    "    try:\n",
    "        label = int(pred[0])\n",
    "    except Exception:\n",
    "        return f'Unexpected prediction output: {pred}'\n",
    "\n",
    "    if label == 0:\n",
    "        return 'You have Chronic kidney disease (CKD)'\n",
    "    else:\n",
    "        return \"You don't have Chronic kidney disease (CKD)\"\n",
    "\n",
    "\n",
    "inputs = [\n",
    "    gr.Number(label='Specific Gravity', value=1.02),\n",
    "    gr.Number(label='Albumin', value=0),\n",
    "    gr.Number(label='Hemoglobin', value=15.0),\n",
    "    gr.Number(label='Packed Cell Volume', value=40),\n",
    "    gr.Number(label='Red Blood Cell Count', value=5.0),\n",
    "    gr.Radio(choices=['yes', 'no'], label='Hypertension', value='no'),\n",
    "    gr.Radio(choices=['yes', 'no'], label='Diabetes Mellitus', value='no')\n",
    "]\n",
    "output = gr.Textbox(label='Kidney Disease Prediction')\n",
    "\n",
    "gr.Interface(fn=predict_api, inputs=inputs, outputs=output, title='Kidney Disease Prediction').launch()\n"
   ]
  }
 ],
 "metadata": {
  "kernelspec": {
   "display_name": "Python 3",
   "language": "python",
   "name": "python3"
  },
  "language_info": {
   "codemirror_mode": {
    "name": "ipython",
    "version": 3
   },
   "file_extension": ".py",
   "mimetype": "text/x-python",
   "name": "python",
   "nbconvert_exporter": "python",
   "pygments_lexer": "ipython3",
   "version": "3.12.9"
  }
 },
 "nbformat": 4,
 "nbformat_minor": 5
}
